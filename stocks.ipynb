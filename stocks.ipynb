{
  "cells": [
    {
      "cell_type": "markdown",
      "source": [
        "# Stocks Data Analysis"
      ],
      "metadata": {
        "id": "mWBqK27BKd2P"
      }
    },
    {
      "cell_type": "code",
      "source": [
        "from google.colab import drive\n",
        "drive.mount('/content/drive')"
      ],
      "metadata": {
        "id": "L_HI4CG9K5qd",
        "outputId": "37839836-d597-4070-94a5-20885f81c4fa",
        "colab": {
          "base_uri": "https://localhost:8080/"
        }
      },
      "execution_count": 16,
      "outputs": [
        {
          "output_type": "stream",
          "name": "stdout",
          "text": [
            "Drive already mounted at /content/drive; to attempt to forcibly remount, call drive.mount(\"/content/drive\", force_remount=True).\n"
          ]
        }
      ]
    },
    {
      "cell_type": "code",
      "source": [
        "# prompt: #open csv\n",
        "\n",
        "import csv\n",
        "\n",
        "with open('/content/drive/MyDrive/stocks-data/AAPL.csv', 'r') as file:\n",
        "  reader = csv.reader(file)\n",
        "  rows = []\n",
        "  for row in reader:\n",
        "    rows.append(row)\n",
        "  print(len(rows))"
      ],
      "metadata": {
        "id": "QHWX3UKsMugO",
        "outputId": "01a5dd43-d02b-41b8-b199-a121f2dbe6c8",
        "colab": {
          "base_uri": "https://localhost:8080/"
        }
      },
      "execution_count": 17,
      "outputs": [
        {
          "output_type": "stream",
          "name": "stdout",
          "text": [
            "1259\n"
          ]
        }
      ]
    },
    {
      "cell_type": "code",
      "source": [],
      "metadata": {
        "id": "GxbDTwPTNgBC"
      },
      "execution_count": null,
      "outputs": []
    }
  ],
  "metadata": {
    "kernelspec": {
      "display_name": "Python 3",
      "language": "python",
      "name": "python3"
    },
    "language_info": {
      "name": "python",
      "version": "3.9.6"
    },
    "colab": {
      "provenance": []
    }
  },
  "nbformat": 4,
  "nbformat_minor": 0
}